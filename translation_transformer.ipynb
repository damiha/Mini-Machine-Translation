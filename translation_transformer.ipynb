{
 "cells": [
  {
   "cell_type": "code",
   "execution_count": 1,
   "metadata": {},
   "outputs": [],
   "source": [
    "import torch\n",
    "from torchvision import datasets, transforms\n",
    "import torch.nn as nn\n",
    "import matplotlib.pyplot as plt\n",
    "import numpy as np\n",
    "from torch.utils.data import Dataset, DataLoader\n",
    "import math\n",
    "import torch.nn.functional as F\n",
    "from tqdm import tqdm\n",
    "from transformer import Transformer\n",
    "import time\n",
    "from torch.nn.utils.rnn import pad_sequence"
   ]
  },
  {
   "cell_type": "code",
   "execution_count": 2,
   "metadata": {},
   "outputs": [],
   "source": [
    "device = \"cuda\" if torch.cuda.is_available() else \"cpu\""
   ]
  },
  {
   "cell_type": "code",
   "execution_count": 3,
   "metadata": {},
   "outputs": [],
   "source": [
    "with open(\"deu.txt\", \"r\") as f:\n",
    "    text = f.read().split(\"\\n\")"
   ]
  },
  {
   "cell_type": "code",
   "execution_count": 4,
   "metadata": {},
   "outputs": [],
   "source": [
    "en_phrases = []\n",
    "de_phrases = []\n",
    "\n",
    "n_phrases = 200_000\n",
    "\n",
    "max_en_len = float(\"-inf\")\n",
    "max_de_len = float(\"-inf\")\n",
    "\n",
    "index_max_en_len = -1\n",
    "index_max_de_len = -1\n",
    "\n",
    "for i, line in enumerate(text[:n_phrases]):\n",
    "    \n",
    "    parts = line.split(\"\\t\")\n",
    "    \n",
    "    en_phrase = parts[0]\n",
    "    de_phrase = parts[1]\n",
    "    \n",
    "    if len(en_phrase) > max_en_len:\n",
    "        max_en_len = len(en_phrase)\n",
    "        index_max_en_len = i\n",
    "  \n",
    "    if len(de_phrase) > max_de_len:\n",
    "        max_de_len = len(de_phrase)\n",
    "        index_max_de_len = i\n",
    "    \n",
    "    en_phrases.append(en_phrase)\n",
    "    de_phrases.append(de_phrase)"
   ]
  },
  {
   "cell_type": "code",
   "execution_count": 5,
   "metadata": {},
   "outputs": [
    {
     "name": "stdout",
     "output_type": "stream",
     "text": [
      "The longest English sentence\n",
      "EN: \"Have you seen Tom?\" \"Not in the last few days.\" (48)\n",
      "DE: „Hast du Tom gesehen?“ – „Nein, in den letzten Tagen gar nicht.“\n"
     ]
    }
   ],
   "source": [
    "print(\"The longest English sentence\")\n",
    "print(f\"EN: {en_phrases[index_max_en_len]} ({max_en_len})\")\n",
    "print(f\"DE: {de_phrases[index_max_en_len]}\")"
   ]
  },
  {
   "cell_type": "code",
   "execution_count": 6,
   "metadata": {
    "scrolled": true
   },
   "outputs": [
    {
     "name": "stdout",
     "output_type": "stream",
     "text": [
      "The longest German sentence\n",
      "EN: Mary is a soccer mom.\n",
      "DE: Maria ist als Mutter fast ausschließlich damit beschäftigt, ihre Kinder zu irgendwelchen Veranstaltungen zu kutschieren. (120)\n"
     ]
    }
   ],
   "source": [
    "print(\"The longest German sentence\")\n",
    "print(f\"EN: {en_phrases[index_max_de_len]}\")\n",
    "print(f\"DE: {de_phrases[index_max_de_len]} ({max_de_len})\")"
   ]
  },
  {
   "cell_type": "code",
   "execution_count": 23,
   "metadata": {},
   "outputs": [],
   "source": [
    "class TokenDataset(Dataset):\n",
    "    def __init__(self, src_phrases, tgt_phrases):\n",
    "        \n",
    "        self.src_phrases = src_phrases\n",
    "        self.tgt_phrases = tgt_phrases\n",
    "        \n",
    "        chars_src = list(sorted(set(\"\\n\".join(src_phrases))))\n",
    "        chars_tgt = list(sorted(set(\"\\n\".join(tgt_phrases))))\n",
    "        \n",
    "        print(f\"The source texts contain {len(chars_src)} characters (+1 for padding)\")\n",
    "        print(f\"The target texts contain {len(chars_tgt)} characters (+1 for padding)\")\n",
    "        \n",
    "        # +1 since we are padding the sequences with the special token 0\n",
    "        self.ctoi_src = {c:(i + 1) for i, c in enumerate(chars_src)}\n",
    "        self.itoc_src = {(i + 1):c for i, c in enumerate(chars_src)}\n",
    "\n",
    "        self.ctoi_tgt = {c:(i + 1) for i, c in enumerate(chars_tgt)}\n",
    "        self.itoc_tgt = {(i + 1):c for i, c in enumerate(chars_tgt)}\n",
    "        \n",
    "        # to determine the size of the minimum positional encoding for encoder and decoder\n",
    "        \n",
    "        # encoder is the part that works on the source language\n",
    "        self.max_len_encoder = float(\"-inf\")\n",
    "        self.max_len_decoder = float(\"-inf\")\n",
    "        \n",
    "        for i, src_phrase in enumerate(src_phrases):\n",
    "            self.max_len_encoder = max(self.max_len_encoder, len(src_phrase))\n",
    "            self.max_len_decoder = max(self.max_len_decoder, len(tgt_phrases[i]))\n",
    "            \n",
    "        print(f\"Minimum encoder context size = {self.max_len_encoder}\")\n",
    "        print(f\"Minimum decoder context size = {self.max_len_decoder}\")\n",
    "\n",
    "    def __len__(self):\n",
    "        return len(self.src_phrases)\n",
    "    \n",
    "    def encode_src(self, s):\n",
    "        return [self.ctoi_src[c] for c in s]\n",
    "    \n",
    "    def decode_src(self, s):\n",
    "        return \"\".join([self.itoc_src.get(i, \"\") for i in s])\n",
    "    \n",
    "    def encode_tgt(self, s):\n",
    "        return [self.ctoi_tgt[c] for c in s]\n",
    "    \n",
    "    def decode_tgt(self, s):\n",
    "        # failures don't get printed\n",
    "        return \"\".join([self.itoc_tgt.get(i, \"\") for i in s])\n",
    "\n",
    "    def __getitem__(self, idx):\n",
    "        \n",
    "        src_phrase = self.src_phrases[idx]\n",
    "        x = torch.tensor(self.encode_src(src_phrase))\n",
    "        \n",
    "        tgt_phrase = self.tgt_phrases[idx]\n",
    "        y = torch.tensor(self.encode_tgt(tgt_phrase))\n",
    "        \n",
    "        return x, y"
   ]
  },
  {
   "cell_type": "code",
   "execution_count": 24,
   "metadata": {},
   "outputs": [],
   "source": [
    "def collate_fn(batch):\n",
    "    sources, targets = zip(*batch)\n",
    "\n",
    "    # Pad the source and target sequences separately\n",
    "    sources_padded = pad_sequence(sources, batch_first=True, padding_value=0)\n",
    "    targets_padded = pad_sequence(targets, batch_first=True, padding_value=0)\n",
    "\n",
    "    # Optionally, you can also return the lengths of original sequences if your model needs them\n",
    "    #source_lengths = [len(src) for src in sources]\n",
    "    #target_lengths = [len(tgt) for tgt in targets]\n",
    "\n",
    "    return sources_padded, targets_padded #, source_lengths, target_lengths"
   ]
  },
  {
   "cell_type": "code",
   "execution_count": 25,
   "metadata": {
    "scrolled": false
   },
   "outputs": [
    {
     "name": "stdout",
     "output_type": "stream",
     "text": [
      "The source texts contain 93 characters (+1 for padding)\n",
      "The target texts contain 118 characters (+1 for padding)\n",
      "Minimum encoder context size = 48\n",
      "Minimum decoder context size = 120\n"
     ]
    }
   ],
   "source": [
    "token_dataset = TokenDataset(src_phrases = en_phrases, tgt_phrases = de_phrases)"
   ]
  },
  {
   "cell_type": "code",
   "execution_count": 10,
   "metadata": {},
   "outputs": [],
   "source": [
    "train_set, test_set = torch.utils.data.random_split(token_dataset, [0.8, 0.2])"
   ]
  },
  {
   "cell_type": "code",
   "execution_count": 11,
   "metadata": {},
   "outputs": [],
   "source": [
    "batch_size = 128\n",
    "\n",
    "train_loader = DataLoader(train_set, shuffle=True, batch_size=batch_size, collate_fn = collate_fn)\n",
    "test_loader = DataLoader(test_set, shuffle=True, batch_size=batch_size, collate_fn = collate_fn)"
   ]
  },
  {
   "cell_type": "code",
   "execution_count": 12,
   "metadata": {},
   "outputs": [],
   "source": [
    "# taken from: https://stackoverflow.com/questions/71998978/early-stopping-in-pytorch\n",
    "class EarlyStopper:\n",
    "    def __init__(self, patience=1, min_delta=0):\n",
    "        self.patience = patience\n",
    "        self.min_delta = min_delta\n",
    "        self.counter = 0\n",
    "        self.min_validation_loss = float('inf')\n",
    "\n",
    "    def early_stop(self, validation_loss):\n",
    "        if validation_loss < self.min_validation_loss:\n",
    "            self.min_validation_loss = validation_loss\n",
    "            self.counter = 0\n",
    "        elif validation_loss > (self.min_validation_loss + self.min_delta):\n",
    "            self.counter += 1\n",
    "            if self.counter >= self.patience:\n",
    "                return True\n",
    "        return False"
   ]
  },
  {
   "cell_type": "code",
   "execution_count": 13,
   "metadata": {},
   "outputs": [],
   "source": [
    "def translate(transformer, token_dataset, s, n_samples, n_tokens, beta):\n",
    "    \n",
    "    print(f\"Source: {s}\")\n",
    "    prompt_tokens = token_dataset.encode_src(s)\n",
    "    \n",
    "    response = transformer.sample(prompt_tokens, n_samples = n_samples,\n",
    "                                  n_tokens = n_tokens, beta = beta).cpu().numpy()\n",
    "    \n",
    "    print(\"Translation:\")\n",
    "    print(\"------------\")\n",
    "    \n",
    "    for i in range(n_samples):\n",
    "        \n",
    "        tokens = list(response[i])\n",
    "        translated = token_dataset.decode_tgt(tokens)\n",
    "        \n",
    "        print(f\"{i + 1}. {translated}\")"
   ]
  },
  {
   "cell_type": "code",
   "execution_count": 14,
   "metadata": {},
   "outputs": [],
   "source": [
    "def train(transformer, train_loader, val_loader, n_epochs,\n",
    "          optimizer=None,\n",
    "          lr_scheduler=None,\n",
    "          early_stopper=None,\n",
    "          metrics_per_epoch=10\n",
    "         ):\n",
    "    \n",
    "    transformer = transformer.to(device)\n",
    "    \n",
    "    if optimizer is None:\n",
    "        optimizer = torch.optim.Adam(transformer.parameters(), lr=3e-4)\n",
    "        print(\"Using default optimizer\")\n",
    "        \n",
    "    if early_stopper is None:\n",
    "        early_stopper = EarlyStopper(patience=3, min_delta=1e-2)\n",
    "        print(\"Using default early stopper\")\n",
    "        \n",
    "    if lr_scheduler is None:\n",
    "        lr_scheduler = torch.optim.lr_scheduler.ReduceLROnPlateau(optimizer,\n",
    "                                                                  factor=0.3, patience=3, min_lr=1e-5,\n",
    "                                                                  threshold=1e-3\n",
    "                                                                 )\n",
    "        print(\"Using default LR scheduler\")\n",
    "    \n",
    "    # label smoothing deactivated for now\n",
    "    criterion_train = nn.CrossEntropyLoss(label_smoothing=0.0)\n",
    "    criterion_test = nn.CrossEntropyLoss()\n",
    "    \n",
    "    train_losses_over_epochs = []\n",
    "    val_losses_over_epochs = []\n",
    "    \n",
    "    metrics_every = len(train_loader) // metrics_per_epoch\n",
    "    in_between_epochs = []\n",
    "    in_between_metrics = []\n",
    "    \n",
    "    for epoch_idx in range(n_epochs):\n",
    "        \n",
    "        train_losses_this_batch = []\n",
    "        transformer.train()\n",
    "        \n",
    "        with tqdm(train_loader, desc=f\"Epoch {epoch_idx + 1}/{n_epochs}\", unit=\"batch\") as tepoch:\n",
    "            for batch_idx, (batch_src_seq, batch_tgt_seq) in enumerate(tepoch):\n",
    "                \n",
    "                B = batch_src_seq.shape[0]\n",
    "\n",
    "                # to GPU\n",
    "                batch_src_seq = batch_src_seq.to(device)\n",
    "                batch_tgt_seq = batch_tgt_seq.to(device)\n",
    "                \n",
    "                # the transformer gets the tokens delayed by one\n",
    "                dec_start_tokens = (torch.full((B, 1), fill_value=dec_start_token)).to(device)\n",
    "                decoder_input = torch.cat((dec_start_tokens, batch_tgt_seq), dim=1)[:, :-1]\n",
    "\n",
    "                logits = transformer(batch_src_seq, decoder_input)\n",
    "\n",
    "                logits = logits.transpose(1, 2)\n",
    "\n",
    "                loss = criterion_train(logits, batch_tgt_seq)\n",
    "\n",
    "                train_losses_this_batch.append(loss.item())\n",
    "\n",
    "                if batch_idx % metrics_every == 0:\n",
    "                    in_between_loss = np.mean(np.array(train_losses_this_batch)[-metrics_every:])\n",
    "                    in_between_metrics.append(in_between_loss)\n",
    "                    in_between_epochs.append(epoch_idx + (batch_idx / len(train_loader)))\n",
    "\n",
    "                    tepoch.set_postfix(avg_loss=in_between_loss)\n",
    "\n",
    "                optimizer.zero_grad()\n",
    "                loss.backward()\n",
    "                optimizer.step()\n",
    "        \n",
    "        train_loss_this_epoch = np.mean(np.array(train_losses_this_batch))\n",
    "        train_losses_over_epochs.append(train_loss_this_epoch)\n",
    "        \n",
    "        # for early stopping\n",
    "        val_losses_this_batch = []\n",
    "        \n",
    "        transformer.eval()\n",
    "        \n",
    "        with torch.no_grad():\n",
    "            for batch_idx, (batch_src_seq, batch_tgt_seq) in enumerate(tqdm(val_loader)):\n",
    "                \n",
    "                B = batch_src_seq.shape[0]\n",
    "\n",
    "                # to GPU\n",
    "                batch_src_seq = batch_src_seq.to(device)\n",
    "                batch_tgt_seq = batch_tgt_seq.to(device)\n",
    "                \n",
    "                # the transformer gets the tokens delayed by one\n",
    "                dec_start_tokens = (torch.full((B, 1), fill_value=dec_start_token)).to(device)\n",
    "                decoder_input = torch.cat((dec_start_tokens, batch_tgt_seq), dim=1)[:, :-1]\n",
    "\n",
    "                logits = transformer(batch_src_seq, decoder_input)\n",
    "\n",
    "                logits = logits.transpose(1, 2)\n",
    "\n",
    "                loss = criterion_train(logits, batch_tgt_seq)\n",
    "\n",
    "                val_losses_this_batch.append(loss.item())\n",
    "        \n",
    "        val_loss_this_epoch = np.mean(np.array(val_losses_this_batch))\n",
    "        val_losses_over_epochs.append(val_loss_this_epoch)\n",
    "        print(f\"{epoch_idx}. avg. train loss = {train_loss_this_epoch}, avg. val loss = {val_loss_this_epoch}\")\n",
    "        \n",
    "        should_stop = early_stopper.early_stop(val_loss_this_epoch)\n",
    "        lr_scheduler.step(val_loss_this_epoch)\n",
    "        \n",
    "        if should_stop:\n",
    "            print(f\"stopping early (val. loss did not decrease for {early_stopper.patience})\")\n",
    "            break\n",
    "        \n",
    "    return train_losses_over_epochs, in_between_epochs, in_between_metrics, val_losses_over_epochs"
   ]
  },
  {
   "cell_type": "code",
   "execution_count": 16,
   "metadata": {},
   "outputs": [
    {
     "name": "stdout",
     "output_type": "stream",
     "text": [
      "Model loaded from transformer_en_de_10e.pth\n"
     ]
    }
   ],
   "source": [
    "n_symbols_dec = 120\n",
    "\n",
    "# for the decoder during training and inference\n",
    "dec_start_token = n_symbols_dec - 1\n",
    "\n",
    "transformer = Transformer(d_model = 256,\n",
    "                          n_heads = 16,\n",
    "                          n_symbols_enc = 95, n_symbols_dec = n_symbols_dec,\n",
    "                          n_layers_enc=4,\n",
    "                          n_layers_dec=4, device=device, context_length_enc=128, context_length_dec=128)\n",
    "\n",
    "transformer.load_model(\"transformer_en_de_10e.pth\")"
   ]
  },
  {
   "cell_type": "code",
   "execution_count": 447,
   "metadata": {},
   "outputs": [],
   "source": [
    "optimizer = torch.optim.Adam(transformer.parameters(), lr=1e-4)"
   ]
  },
  {
   "cell_type": "code",
   "execution_count": 468,
   "metadata": {
    "scrolled": true
   },
   "outputs": [
    {
     "name": "stdout",
     "output_type": "stream",
     "text": [
      "Using default early stopper\n",
      "Using default LR scheduler\n"
     ]
    },
    {
     "name": "stderr",
     "output_type": "stream",
     "text": [
      "Epoch 1/2: 100%|█████████| 1250/1250 [02:17<00:00,  9.08batch/s, avg_loss=0.509]\n",
      "100%|█████████████████████████████████████████| 313/313 [00:13<00:00, 23.68it/s]\n"
     ]
    },
    {
     "name": "stdout",
     "output_type": "stream",
     "text": [
      "0. avg. train loss = 0.5121127440214157, avg. val loss = 0.46505602803854895\n"
     ]
    },
    {
     "name": "stderr",
     "output_type": "stream",
     "text": [
      "Epoch 2/2: 100%|█████████| 1250/1250 [02:18<00:00,  9.03batch/s, avg_loss=0.503]\n",
      "100%|█████████████████████████████████████████| 313/313 [00:13<00:00, 23.78it/s]"
     ]
    },
    {
     "name": "stdout",
     "output_type": "stream",
     "text": [
      "1. avg. train loss = 0.5004833919763565, avg. val loss = 0.45865773602415577\n"
     ]
    },
    {
     "name": "stderr",
     "output_type": "stream",
     "text": [
      "\n"
     ]
    }
   ],
   "source": [
    "train_losses, in_between_epochs, in_between_metrics, val_losses =\\\n",
    "train(transformer, train_loader, test_loader, n_epochs=2, optimizer=optimizer, metrics_per_epoch=20)"
   ]
  },
  {
   "cell_type": "code",
   "execution_count": 177,
   "metadata": {
    "scrolled": true
   },
   "outputs": [
    {
     "data": {
      "image/png": "[encoded data removed]",
      "text/plain": [
       "<Figure size 640x480 with 1 Axes>"
      ]
     },
     "metadata": {},
     "output_type": "display_data"
    }
   ],
   "source": [
    "epoch_list = np.arange(len(train_losses)) + 1.0\n",
    "plt.scatter(epoch_list, train_losses, label=\"train\", c=\"blue\")\n",
    "plt.plot(in_between_epochs, in_between_metrics, c=\"blue\")\n",
    "plt.plot(epoch_list, val_losses, label=\"val\", c=\"orange\")\n",
    "plt.xlabel(\"Epochs\")\n",
    "plt.xticks(np.arange(len(train_losses) + 1))\n",
    "plt.ylabel(\"Loss\")\n",
    "plt.legend()\n",
    "plt.show()"
   ]
  },
  {
   "cell_type": "code",
   "execution_count": 474,
   "metadata": {},
   "outputs": [
    {
     "name": "stdout",
     "output_type": "stream",
     "text": [
      "Model saved to transformer_en_de_10e.pth\n"
     ]
    }
   ],
   "source": [
    "#transformer.save_model(\"transformer_en_de_10e.pth\")"
   ]
  },
  {
   "cell_type": "code",
   "execution_count": 17,
   "metadata": {},
   "outputs": [],
   "source": [
    "x, y = next(iter(train_loader))"
   ]
  },
  {
   "cell_type": "code",
   "execution_count": 26,
   "metadata": {},
   "outputs": [
    {
     "name": "stdout",
     "output_type": "stream",
     "text": [
      "Tom felt like going out for a walk.\n",
      "Tom hatte Lust auf einen Spaziergang.\n"
     ]
    }
   ],
   "source": [
    "example_idx = 0\n",
    "\n",
    "print(token_dataset.decode_src([c.item() for c in x[example_idx]]))\n",
    "print(token_dataset.decode_tgt([c.item() for c in y[example_idx]]))"
   ]
  },
  {
   "cell_type": "code",
   "execution_count": 29,
   "metadata": {
    "scrolled": true
   },
   "outputs": [
    {
     "name": "stdout",
     "output_type": "stream",
     "text": [
      "Source: I am 22 years old.\n",
      "Prompt tokens: [34, 2, 52, 64, 2, 15, 15, 2, 76, 56, 52, 69, 70, 2, 66, 63, 55, 11]\n",
      "Translation:\n",
      "------------\n",
      "1. Ich verreunde meine Balle und in Balle.\n",
      "2. Ich und dann in im Biste um Parkaus gerade beschäftigt.\n",
      "3. Ich bin nur so berade bestanden, du sondern ich so spanzen w\n",
      "4. Ich bin gut 10 Vater Yollel und und meine Junge meine Fenn.\n",
      "5. Ich bin so so so gut mein Fahrrad neunden abbekluss.\n",
      "6. Ich bin deines nach Jahren immer ja gegen.\n",
      "7. Ich verlaube, ich bin meinem Tagen Freund zu besprechen.\n",
      "8. Ich bin meiner Jahre weit und Junge sprechen.\n"
     ]
    }
   ],
   "source": [
    "translate(transformer, token_dataset, s = \"I am 22 years old.\", n_samples = 8, n_tokens = 60, beta = 0.8)"
   ]
  }
 ],
 "metadata": {
  "kernelspec": {
   "display_name": "inpainting",
   "language": "python",
   "name": "myenv"
  },
  "language_info": {
   "codemirror_mode": {
    "name": "ipython",
    "version": 3
   },
   "file_extension": ".py",
   "mimetype": "text/x-python",
   "name": "python",
   "nbconvert_exporter": "python",
   "pygments_lexer": "ipython3",
   "version": "3.10.9"
  }
 },
 "nbformat": 4,
 "nbformat_minor": 2
}
